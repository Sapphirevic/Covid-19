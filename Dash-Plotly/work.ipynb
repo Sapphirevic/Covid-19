{
 "cells": [
  {
   "cell_type": "code",
   "execution_count": null,
   "metadata": {},
   "outputs": [],
   "source": [
    "import pandas as pd\n",
    "import seaborn as sns\n",
    "import matplotlib.pyplot as plt\n",
    "import numpy as np"
   ]
  },
  {
   "cell_type": "code",
   "execution_count": null,
   "metadata": {},
   "outputs": [],
   "source": [
    "data = pd.read_csv('covid-19-country-statistics-dataset.csv', index_col=False)\n",
    "\n",
    "data.set_index(data.columns[0], inplace=True)"
   ]
  },
  {
   "cell_type": "code",
   "execution_count": null,
   "metadata": {},
   "outputs": [],
   "source": [
    "data.rename(columns={'Total Cases':'Total_Cases',\n",
    "                     'New Cases':'New_Cases',\n",
    "                     'Total Deaths': 'Total_Deaths',\n",
    "                     'New Deaths':'New_Deaths',\n",
    "                     'Total Recovered':'Recovered',\n",
    "                     'Active cases':'Active_Cases',\n",
    "                     'Serious_Critical':'Critical_Cases',\n",
    "                     'Total Cases Per 1m Pop': 'Total_Cases(1mil pop)',\n",
    "                     'Deaths Per 1m Pop': 'Total_Deaths(1mil pop)',\n",
    "                     'Total Tests': 'Total_Tests',\n",
    "                     'Tests Per 1m Pop': 'Total_Tests(1mil pop)',\n",
    "                      'Population': 'Population(pop)'\n",
    "},inplace=True)"
   ]
  },
  {
   "cell_type": "code",
   "execution_count": null,
   "metadata": {},
   "outputs": [],
   "source": [
    "data.isna().sum()# NAN values"
   ]
  },
  {
   "cell_type": "code",
   "execution_count": null,
   "metadata": {},
   "outputs": [],
   "source": [
    "# data.dropna(inplace=True)\n",
    "data.dropna(subset = ['Active_Cases', 'Total_Deaths', 'Recovered', 'Total_Tests'], inplace=True)\n",
    "data"
   ]
  },
  {
   "cell_type": "code",
   "execution_count": null,
   "metadata": {},
   "outputs": [],
   "source": [
    "data.isna().sum()"
   ]
  },
  {
   "cell_type": "code",
   "execution_count": null,
   "metadata": {},
   "outputs": [],
   "source": [
    "columns_to_convert = ['Active_Cases', 'Recovered', 'Total_Cases', 'Total_Deaths']  # convert specific columns from obj to int\n",
    "data[columns_to_convert] = data[columns_to_convert].replace(',', '', regex=True).astype('int64')"
   ]
  },
  {
   "cell_type": "code",
   "execution_count": null,
   "metadata": {},
   "outputs": [],
   "source": [
    "data.to_csv('cleaned_data.csv', index=True)"
   ]
  }
 ],
 "metadata": {
  "language_info": {
   "name": "python"
  }
 },
 "nbformat": 4,
 "nbformat_minor": 2
}
